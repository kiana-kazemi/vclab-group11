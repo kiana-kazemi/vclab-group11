{
 "cells": [
  {
   "cell_type": "code",
   "execution_count": null,
   "metadata": {},
   "outputs": [],
   "source": [
    "name= str(input(\"What is your name?\"))\n",
    "major= input(\"Please enter the letter corresponding to your intended major: A) Computer Science, B) Biology, C) Mechanical Engineering, D) Political Science, E) Theatre\")\n",
    "\n",
    "if major == \"A\":\n",
    "    print(name + \", the University of Pittsburgh would be great for studying Computer Science\")\n",
    "elif major == \"B\":\n",
    "    print(name + \", Harvard would be great for studying Biology\")\n",
    "elif major == \"Mechanical Engineering\":\n",
    "    print(name + \", MIT would be great for studying Mechanical Engineering\")\n",
    "elif major == \"D\":\n",
    "    print(name + \", Stanford would be great for studying Political Science\")\n",
    "elif major == \"E\":\n",
    "    print(name + \", Northwestern would be great for studying Theatre\")\n",
    "else:\n",
    "    print(\"You didn't entered the letter of a major in the list, we are unable to provide a suggestion\")"
   ]
  },
  {
   "cell_type": "code",
   "execution_count": null,
   "metadata": {},
   "outputs": [],
   "source": []
  }
 ],
 "metadata": {
  "kernelspec": {
   "display_name": "Python 3",
   "language": "python",
   "name": "python3"
  },
  "language_info": {
   "codemirror_mode": {
    "name": "ipython",
    "version": 3
   },
   "file_extension": ".py",
   "mimetype": "text/x-python",
   "name": "python",
   "nbconvert_exporter": "python",
   "pygments_lexer": "ipython3",
   "version": "3.8.3"
  }
 },
 "nbformat": 4,
 "nbformat_minor": 4
}
