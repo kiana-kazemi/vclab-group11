{
 "cells": [
  {
   "cell_type": "code",
   "execution_count": 2,
   "metadata": {},
   "outputs": [
    {
     "name": "stdin",
     "output_type": "stream",
     "text": [
      "What is your name?:  Kiana\n",
      "What is your favorite subject?:  Math\n"
     ]
    },
    {
     "name": "stdout",
     "output_type": "stream",
     "text": [
      "Hey, Kiana ! Math is really cool! I really enjoy Computer Science!\n"
     ]
    }
   ],
   "source": [
    "name= input(\"What is your name?: \")\n",
    "subject= input(\"What is your favorite subject?: \")\n",
    "\n",
    "print(\"Hey,\", name, \"!\", subject, \"is really cool! I really enjoy Computer Science!\")"
   ]
  }
 ],
 "metadata": {
  "kernelspec": {
   "display_name": "Python 3",
   "language": "python",
   "name": "python3"
  },
  "language_info": {
   "codemirror_mode": {
    "name": "ipython",
    "version": 3
   },
   "file_extension": ".py",
   "mimetype": "text/x-python",
   "name": "python",
   "nbconvert_exporter": "python",
   "pygments_lexer": "ipython3",
   "version": "3.8.3"
  }
 },
 "nbformat": 4,
 "nbformat_minor": 4
}
